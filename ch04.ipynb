{
 "cells": [
  {
   "cell_type": "markdown",
   "metadata": {},
   "source": [
    "chap04. 유전자 서열 다루어보기"
   ]
  },
  {
   "cell_type": "code",
   "execution_count": 1,
   "metadata": {},
   "outputs": [
    {
     "name": "stdout",
     "output_type": "stream",
     "text": [
      "tataaaggcAATARGCAGTAG\n",
      "<class 'Bio.Seq.Seq'>\n"
     ]
    }
   ],
   "source": [
    "#4.3.1 Sequence 객체 만들기\n",
    "from Bio.Seq import Seq\n",
    "\n",
    "tatabox_seq = Seq(\"tataaaggcAATARGCAGTAG\")\n",
    "print(tatabox_seq)\n",
    "print(type(tatabox_seq))"
   ]
  },
  {
   "cell_type": "code",
   "execution_count": 5,
   "metadata": {},
   "outputs": [
    {
     "name": "stdout",
     "output_type": "stream",
     "text": [
      "3\n"
     ]
    }
   ],
   "source": [
    "#4.4.1 count\n",
    "\n",
    "exon_seq=Seq(\"ATGCAGTAG\")\n",
    "count_a=exon_seq.count(\"A\")\n",
    "print(count_a)"
   ]
  },
  {
   "cell_type": "code",
   "execution_count": 6,
   "metadata": {},
   "outputs": [
    {
     "name": "stdout",
     "output_type": "stream",
     "text": [
      "44.44444444444444\n"
     ]
    }
   ],
   "source": [
    "#4.4.2 Sequence객체의 GC-contents 계산\n",
    "\n",
    "g_count = exon_seq.count(\"G\")\n",
    "c_count = exon_seq.count(\"C\")\n",
    "gc_contents = (g_count +c_count)/ len(exon_seq)*100\n",
    "print(gc_contents)"
   ]
  },
  {
   "cell_type": "code",
   "execution_count": 7,
   "metadata": {},
   "outputs": [
    {
     "name": "stdout",
     "output_type": "stream",
     "text": [
      "TATAAAGGCAATARGCAGTAG\n",
      "tataaaggcaatargcagtag\n"
     ]
    }
   ],
   "source": [
    "#4.4.3 Sequence객체 서열 대소문자 변환\n",
    "\n",
    "print(tatabox_seq.upper())\n",
    "print(tatabox_seq.lower())"
   ]
  },
  {
   "cell_type": "code",
   "execution_count": 8,
   "metadata": {},
   "outputs": [
    {
     "name": "stdout",
     "output_type": "stream",
     "text": [
      "AUGCAGUAG\n",
      "MQ*\n"
     ]
    }
   ],
   "source": [
    "#4.4.4 translate 객체 전사, 번역하기\n",
    "\n",
    "dna=Seq(\"ATGCAGTAG\")\n",
    "mrna=dna.transcribe()\n",
    "ptn=dna.translate()\n",
    "print(mrna)\n",
    "print(ptn)"
   ]
  },
  {
   "cell_type": "code",
   "execution_count": null,
   "metadata": {},
   "outputs": [],
   "source": []
  }
 ],
 "metadata": {
  "language_info": {
   "name": "python"
  }
 },
 "nbformat": 4,
 "nbformat_minor": 2
}
